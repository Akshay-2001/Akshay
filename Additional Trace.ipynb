{
 "cells": [
  {
   "cell_type": "code",
   "execution_count": 1,
   "metadata": {},
   "outputs": [
    {
     "name": "stdout",
     "output_type": "stream",
     "text": [
      "Enter the size of the square matrix :3\n",
      "Enter the entries in a single line (separated by space): \n",
      "1 2 3 4 5 6 7 8 9\n",
      "[[1 2 3]\n",
      " [4 5 6]\n",
      " [7 8 9]]\n"
     ]
    }
   ],
   "source": [
    "# to find the additional trace of a square matrix using python\n",
    "def swapDiagonal(matrix): \n",
    "    '''\n",
    "    function used to swap the diagonals of the given matrix\n",
    "    '''     \n",
    "    for i in range(R): \n",
    "          \n",
    "        matrix[i][i], matrix[i][R-i-1] = \\\n",
    "            matrix[i][R-i-1], matrix[i][i]\n",
    "\n",
    "        \n",
    "import numpy as np \n",
    "  \n",
    "R = int(input(\"Enter the size of the square matrix :\"))\n",
    "\n",
    "print(\"Enter the entries in a single line (separated by space): \") \n",
    "  \n",
    "# User input of entries in a  \n",
    "# single line separated by space \n",
    "entries = list(map(int, input().split())) \n",
    "  \n",
    "# For printing the matrix \n",
    "matrix = np.array(entries).reshape(R, R) \n",
    "print(matrix)\n"
   ]
  },
  {
   "cell_type": "code",
   "execution_count": 2,
   "metadata": {},
   "outputs": [
    {
     "name": "stdout",
     "output_type": "stream",
     "text": [
      "[[3 2 1]\n",
      " [4 5 6]\n",
      " [9 8 7]]\n"
     ]
    }
   ],
   "source": [
    "# swap diagonals of matrix \n",
    "swapDiagonal(matrix);\n",
    "print(matrix)"
   ]
  },
  {
   "cell_type": "code",
   "execution_count": 6,
   "metadata": {},
   "outputs": [
    {
     "name": "stdout",
     "output_type": "stream",
     "text": [
      "[3 5 7]\n"
     ]
    }
   ],
   "source": [
    "n = matrix.diagonal()\n",
    "print(n)"
   ]
  },
  {
   "cell_type": "code",
   "execution_count": 5,
   "metadata": {},
   "outputs": [
    {
     "name": "stdout",
     "output_type": "stream",
     "text": [
      "y = [3, 5, 7]\n",
      "The Additional trace = 105\n",
      "Manual multiplication of the elements of the list = 105\n",
      "Therefore Additional trace = multiplication of elements of the minor diagonal\n"
     ]
    }
   ],
   "source": [
    "y = list(n)\n",
    "print(\"y =\",y)\n",
    "\n",
    "import numpy\n",
    "additional_trace = numpy.prod(y) \n",
    "print(\"The Additional trace =\",additional_trace)\n",
    "print(\"Manual multiplication of the elements of the list =\",3*5*7)\n",
    "print(\"Therefore Additional trace = multiplication of elements of the minor diagonal\")"
   ]
  },
  {
   "cell_type": "code",
   "execution_count": null,
   "metadata": {},
   "outputs": [],
   "source": []
  }
 ],
 "metadata": {
  "kernelspec": {
   "display_name": "Python 3",
   "language": "python",
   "name": "python3"
  },
  "language_info": {
   "codemirror_mode": {
    "name": "ipython",
    "version": 3
   },
   "file_extension": ".py",
   "mimetype": "text/x-python",
   "name": "python",
   "nbconvert_exporter": "python",
   "pygments_lexer": "ipython3",
   "version": "3.7.6"
  }
 },
 "nbformat": 4,
 "nbformat_minor": 4
}
